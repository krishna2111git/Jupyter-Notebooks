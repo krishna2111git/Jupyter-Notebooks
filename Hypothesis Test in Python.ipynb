{
 "cells": [
  {
   "cell_type": "code",
   "execution_count": 2,
   "id": "3acd9402",
   "metadata": {},
   "outputs": [],
   "source": [
    "import scipy.stats as stats\n",
    "import numpy as np\n",
    "from statsmodels.stats.proportion import proportions_ztest\n",
    "import math"
   ]
  },
  {
   "cell_type": "code",
   "execution_count": 7,
   "id": "cd61ed10",
   "metadata": {},
   "outputs": [
    {
     "data": {
      "text/plain": [
       "TtestResult(statistic=-0.358433858548785, pvalue=0.7239703579964251, df=19)"
      ]
     },
     "execution_count": 7,
     "metadata": {},
     "output_type": "execute_result"
    }
   ],
   "source": [
    "x = [13,8,10,10,8,9,10,11,6,8,12,11,11,12,10,12,7,10,11,8]\n",
    "stats.ttest_1samp(x, 10)"
   ]
  },
  {
   "cell_type": "code",
   "execution_count": 12,
   "id": "2241317b",
   "metadata": {},
   "outputs": [
    {
     "data": {
      "text/plain": [
       "(-0.35843385854878496, 0.7200186571092653)"
      ]
     },
     "execution_count": 12,
     "metadata": {},
     "output_type": "execute_result"
    }
   ],
   "source": [
    "ztest(x, value=10)"
   ]
  },
  {
   "cell_type": "code",
   "execution_count": 9,
   "id": "87b15db3",
   "metadata": {},
   "outputs": [],
   "source": [
    "n, pop_mean, samp_mean, alpha, pop_sd = 30, 500, 505, 0.03, 10"
   ]
  },
  {
   "cell_type": "code",
   "execution_count": 10,
   "id": "66131f97",
   "metadata": {},
   "outputs": [
    {
     "data": {
      "text/plain": [
       "2.7386127875258306"
      ]
     },
     "execution_count": 10,
     "metadata": {},
     "output_type": "execute_result"
    }
   ],
   "source": [
    "z_stat = (samp_mean - pop_mean)/(pop_sd/(n**0.5))\n",
    "z_stat"
   ]
  },
  {
   "cell_type": "code",
   "execution_count": 13,
   "id": "5bdce2e3",
   "metadata": {},
   "outputs": [
    {
     "data": {
      "text/plain": [
       "0.00616989932054416"
      ]
     },
     "execution_count": 13,
     "metadata": {},
     "output_type": "execute_result"
    }
   ],
   "source": [
    "p_value = 2*stats.norm.sf(abs(z_stat))\n",
    "p_value"
   ]
  },
  {
   "cell_type": "code",
   "execution_count": 14,
   "id": "c0d6e7ac",
   "metadata": {},
   "outputs": [
    {
     "name": "stdout",
     "output_type": "stream",
     "text": [
      "Null Hypothesis population mean=500 is rejected\n"
     ]
    }
   ],
   "source": [
    "if p_value<alpha: print(\"Null Hypothesis population mean=500 is rejected\")\n",
    "else : print(\"Null Hypothesis not rejected. Population mean is not significantly different from 500\")\n",
    "        "
   ]
  },
  {
   "cell_type": "code",
   "execution_count": 41,
   "id": "422a4ce0",
   "metadata": {},
   "outputs": [
    {
     "data": {
      "text/plain": [
       "2.17009037758456"
      ]
     },
     "execution_count": 41,
     "metadata": {},
     "output_type": "execute_result"
    }
   ],
   "source": [
    "abs_critical_val = stats.norm.ppf(1-(alpha/2))\n",
    "abs_critical_val"
   ]
  },
  {
   "cell_type": "code",
   "execution_count": 24,
   "id": "ebdefbc4",
   "metadata": {},
   "outputs": [
    {
     "data": {
      "text/plain": [
       "2.17009037758456"
      ]
     },
     "execution_count": 24,
     "metadata": {},
     "output_type": "execute_result"
    }
   ],
   "source": [
    "upper_critical_val = stats.norm.ppf(1-(alpha/2))\n",
    "upper_critical_val"
   ]
  },
  {
   "cell_type": "code",
   "execution_count": 47,
   "id": "743a8a0c",
   "metadata": {},
   "outputs": [
    {
     "name": "stdout",
     "output_type": "stream",
     "text": [
      "Null hypothesis Population mean = 500 is rejected\n"
     ]
    }
   ],
   "source": [
    "if -abs_critical_val < z_stat < abs_critical_val :\n",
    "    print(\"Null Hypothesis population mean = 500 is not rejected. The population mean does not significantly differe from 500\")\n",
    "else :\n",
    "    print(\"Null hypothesis Population mean = 500 is rejected\")"
   ]
  },
  {
   "cell_type": "code",
   "execution_count": 49,
   "id": "ac3d2f62",
   "metadata": {},
   "outputs": [
    {
     "data": {
      "text/plain": [
       "2.17009037758456"
      ]
     },
     "execution_count": 49,
     "metadata": {},
     "output_type": "execute_result"
    }
   ],
   "source": [
    "z_alpha_by_2 = stats.norm.ppf(1-(alpha/2) )\n",
    "z_alpha_by_2"
   ]
  },
  {
   "cell_type": "code",
   "execution_count": 51,
   "id": "062ab906",
   "metadata": {},
   "outputs": [
    {
     "data": {
      "text/plain": [
       "1.8257418583505538"
      ]
     },
     "execution_count": 51,
     "metadata": {},
     "output_type": "execute_result"
    }
   ],
   "source": [
    "std_error = pop_sd/math.sqrt(n)\n",
    "std_error"
   ]
  },
  {
   "cell_type": "code",
   "execution_count": 52,
   "id": "ae666217",
   "metadata": {},
   "outputs": [
    {
     "data": {
      "text/plain": [
       "3.96202483875989"
      ]
     },
     "execution_count": 52,
     "metadata": {},
     "output_type": "execute_result"
    }
   ],
   "source": [
    "margin_error = z_alpha_by_2 * std_error\n",
    "margin_error"
   ]
  },
  {
   "cell_type": "code",
   "execution_count": 54,
   "id": "c0370b82",
   "metadata": {},
   "outputs": [
    {
     "data": {
      "text/plain": [
       "(501.0379751612401, 503.9620248387599)"
      ]
     },
     "execution_count": 54,
     "metadata": {},
     "output_type": "execute_result"
    }
   ],
   "source": [
    "lower_limit = samp_mean - margin_error\n",
    "upper_limit = pop_mean +  margin_error\n",
    "(lower_limit,upper_limit )"
   ]
  },
  {
   "cell_type": "markdown",
   "id": "7d5b17db",
   "metadata": {},
   "source": [
    "Hypothesis on Population Proportion"
   ]
  },
  {
   "cell_type": "code",
   "execution_count": 4,
   "id": "3215c43e",
   "metadata": {},
   "outputs": [
    {
     "data": {
      "text/plain": [
       "(1.286806739751111, 0.1981616572238455)"
      ]
     },
     "execution_count": 4,
     "metadata": {},
     "output_type": "execute_result"
    }
   ],
   "source": [
    "proportions_ztest(67, 120, 0.5 )"
   ]
  },
  {
   "cell_type": "markdown",
   "id": "09792245",
   "metadata": {},
   "source": [
    "confidence interval APPROACH"
   ]
  },
  {
   "cell_type": "code",
   "execution_count": 10,
   "id": "83d06139",
   "metadata": {},
   "outputs": [
    {
     "data": {
      "text/plain": [
       "1.959963984540054"
      ]
     },
     "execution_count": 10,
     "metadata": {},
     "output_type": "execute_result"
    }
   ],
   "source": [
    "z = stats.norm.ppf(1-0.025)\n",
    "z"
   ]
  },
  {
   "cell_type": "code",
   "execution_count": 11,
   "id": "aa91b73e",
   "metadata": {},
   "outputs": [],
   "source": [
    "sam_prop = 67/120"
   ]
  },
  {
   "cell_type": "code",
   "execution_count": 12,
   "id": "70153dff",
   "metadata": {},
   "outputs": [],
   "source": [
    "std_error = math.sqrt(sam_prop*(1-sam_prop)/120)"
   ]
  },
  {
   "cell_type": "code",
   "execution_count": 13,
   "id": "674ff04b",
   "metadata": {},
   "outputs": [
    {
     "data": {
      "text/plain": [
       "0.045331852508493975"
      ]
     },
     "execution_count": 13,
     "metadata": {},
     "output_type": "execute_result"
    }
   ],
   "source": [
    "std_error"
   ]
  },
  {
   "cell_type": "code",
   "execution_count": 14,
   "id": "43e148f5",
   "metadata": {},
   "outputs": [
    {
     "data": {
      "text/plain": [
       "0.08884879826912989"
      ]
     },
     "execution_count": 14,
     "metadata": {},
     "output_type": "execute_result"
    }
   ],
   "source": [
    "margin_error = z*std_error\n",
    "margin_error"
   ]
  },
  {
   "cell_type": "code",
   "execution_count": 15,
   "id": "c3191ac2",
   "metadata": {},
   "outputs": [
    {
     "data": {
      "text/plain": [
       "0.46948453506420346"
      ]
     },
     "execution_count": 15,
     "metadata": {},
     "output_type": "execute_result"
    }
   ],
   "source": [
    "lower_limit = sam_prop - margin_error\n",
    "lower_limit"
   ]
  },
  {
   "cell_type": "code",
   "execution_count": 16,
   "id": "1e0f16c2",
   "metadata": {},
   "outputs": [
    {
     "data": {
      "text/plain": [
       "0.6471821316024633"
      ]
     },
     "execution_count": 16,
     "metadata": {},
     "output_type": "execute_result"
    }
   ],
   "source": [
    "upper_limit = sam_prop+margin_error\n",
    "upper_limit"
   ]
  },
  {
   "cell_type": "code",
   "execution_count": null,
   "id": "8d3fb22c",
   "metadata": {},
   "outputs": [],
   "source": []
  }
 ],
 "metadata": {
  "kernelspec": {
   "display_name": "Python 3 (ipykernel)",
   "language": "python",
   "name": "python3"
  },
  "language_info": {
   "codemirror_mode": {
    "name": "ipython",
    "version": 3
   },
   "file_extension": ".py",
   "mimetype": "text/x-python",
   "name": "python",
   "nbconvert_exporter": "python",
   "pygments_lexer": "ipython3",
   "version": "3.11.5"
  }
 },
 "nbformat": 4,
 "nbformat_minor": 5
}
